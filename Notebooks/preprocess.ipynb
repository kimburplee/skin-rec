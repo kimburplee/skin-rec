{
 "cells": [
  {
   "cell_type": "markdown",
   "metadata": {},
   "source": [
    "## Import libraries"
   ]
  },
  {
   "cell_type": "code",
   "execution_count": 86,
   "metadata": {},
   "outputs": [],
   "source": [
    "import pandas as pd\n",
    "import numpy as np\n",
    "import re\n",
    "import matplotlib.pyplot as plt"
   ]
  },
  {
   "cell_type": "markdown",
   "metadata": {},
   "source": [
    "## Clean data"
   ]
  },
  {
   "cell_type": "code",
   "execution_count": 176,
   "metadata": {},
   "outputs": [
    {
     "name": "stdout",
     "output_type": "stream",
     "text": [
      "<class 'pandas.core.frame.DataFrame'>\n",
      "RangeIndex: 666 entries, 0 to 665\n",
      "Data columns (total 7 columns):\n",
      " #   Column       Non-Null Count  Dtype \n",
      "---  ------       --------------  ----- \n",
      " 0   Label        666 non-null    object\n",
      " 1   URL          666 non-null    object\n",
      " 2   brand        666 non-null    object\n",
      " 3   name         666 non-null    object\n",
      " 4   price        666 non-null    object\n",
      " 5   skin_type    666 non-null    object\n",
      " 6   ingredients  661 non-null    object\n",
      "dtypes: object(7)\n",
      "memory usage: 36.5+ KB\n"
     ]
    }
   ],
   "source": [
    "df = pd.read_csv('body-care-1.csv')\n",
    "df.info()"
   ]
  },
  {
   "cell_type": "code",
   "execution_count": 177,
   "metadata": {},
   "outputs": [
    {
     "data": {
      "text/html": [
       "<div>\n",
       "<style scoped>\n",
       "    .dataframe tbody tr th:only-of-type {\n",
       "        vertical-align: middle;\n",
       "    }\n",
       "\n",
       "    .dataframe tbody tr th {\n",
       "        vertical-align: top;\n",
       "    }\n",
       "\n",
       "    .dataframe thead th {\n",
       "        text-align: right;\n",
       "    }\n",
       "</style>\n",
       "<table border=\"1\" class=\"dataframe\">\n",
       "  <thead>\n",
       "    <tr style=\"text-align: right;\">\n",
       "      <th></th>\n",
       "      <th>Label</th>\n",
       "      <th>URL</th>\n",
       "      <th>brand</th>\n",
       "      <th>name</th>\n",
       "      <th>price</th>\n",
       "      <th>skin_type</th>\n",
       "      <th>ingredients</th>\n",
       "    </tr>\n",
       "  </thead>\n",
       "  <tbody>\n",
       "    <tr>\n",
       "      <th>0</th>\n",
       "      <td>bath-and-body-soap</td>\n",
       "      <td>https://www.sephora.com/product/kp-bump-eraser...</td>\n",
       "      <td>FIRST AID BEAUTY</td>\n",
       "      <td>KP Bump Eraser Body Scrub with 10% AHA</td>\n",
       "      <td>$28.00</td>\n",
       "      <td>['Normal,', 'Dry,', 'Combination\\n']</td>\n",
       "      <td>-Pumice Buffing Beads: Exfoliate particles to ...</td>\n",
       "    </tr>\n",
       "    <tr>\n",
       "      <th>1</th>\n",
       "      <td>bath-and-body-soap</td>\n",
       "      <td>https://www.sephora.com/product/sol-de-janeiro...</td>\n",
       "      <td>SOL DE JANEIRO</td>\n",
       "      <td>Bum Bum Body Scrub</td>\n",
       "      <td>$42.00</td>\n",
       "      <td>['Normal,', 'Dry,', 'Combination,', 'Oily\\n']</td>\n",
       "      <td>-Crushed Cupuaçu Seeds: Gently buff and smooth...</td>\n",
       "    </tr>\n",
       "    <tr>\n",
       "      <th>2</th>\n",
       "      <td>bath-and-body-soap</td>\n",
       "      <td>https://www.sephora.com/product/brazilian-4-pl...</td>\n",
       "      <td>SOL DE JANEIRO</td>\n",
       "      <td>Brazilian 4 Play Moisturizing Shower Cream-Gel</td>\n",
       "      <td>$25.00</td>\n",
       "      <td>['Dry,', 'Normal,', 'Combination,', 'Oily,']</td>\n",
       "      <td>NaN</td>\n",
       "    </tr>\n",
       "    <tr>\n",
       "      <th>3</th>\n",
       "      <td>bath-and-body-soap</td>\n",
       "      <td>https://www.sephora.com/product/sol-de-janeiro...</td>\n",
       "      <td>SOL DE JANEIRO</td>\n",
       "      <td>Brazilian Touch Hand Sanitizer Spray</td>\n",
       "      <td>$10.00</td>\n",
       "      <td>[]</td>\n",
       "      <td>Alcohol 80%, Aqua (water), glycerine, hydrogen...</td>\n",
       "    </tr>\n",
       "    <tr>\n",
       "      <th>4</th>\n",
       "      <td>bath-and-body-soap</td>\n",
       "      <td>https://www.sephora.com/product/necessaire-the...</td>\n",
       "      <td>NÉCESSAIRE</td>\n",
       "      <td>The Body Wash</td>\n",
       "      <td>$25.00</td>\n",
       "      <td>['Normal,', 'Dry,', 'Combination,', 'Oily\\n']</td>\n",
       "      <td>-Niacinamide (Vitamin B3): Cleanses, nourishes...</td>\n",
       "    </tr>\n",
       "  </tbody>\n",
       "</table>\n",
       "</div>"
      ],
      "text/plain": [
       "                Label                                                URL  \\\n",
       "0  bath-and-body-soap  https://www.sephora.com/product/kp-bump-eraser...   \n",
       "1  bath-and-body-soap  https://www.sephora.com/product/sol-de-janeiro...   \n",
       "2  bath-and-body-soap  https://www.sephora.com/product/brazilian-4-pl...   \n",
       "3  bath-and-body-soap  https://www.sephora.com/product/sol-de-janeiro...   \n",
       "4  bath-and-body-soap  https://www.sephora.com/product/necessaire-the...   \n",
       "\n",
       "              brand                                            name    price  \\\n",
       "0  FIRST AID BEAUTY          KP Bump Eraser Body Scrub with 10% AHA  $28.00    \n",
       "1    SOL DE JANEIRO                              Bum Bum Body Scrub  $42.00    \n",
       "2    SOL DE JANEIRO  Brazilian 4 Play Moisturizing Shower Cream-Gel  $25.00    \n",
       "3    SOL DE JANEIRO            Brazilian Touch Hand Sanitizer Spray  $10.00    \n",
       "4        NÉCESSAIRE                                   The Body Wash  $25.00    \n",
       "\n",
       "                                       skin_type  \\\n",
       "0           ['Normal,', 'Dry,', 'Combination\\n']   \n",
       "1  ['Normal,', 'Dry,', 'Combination,', 'Oily\\n']   \n",
       "2   ['Dry,', 'Normal,', 'Combination,', 'Oily,']   \n",
       "3                                             []   \n",
       "4  ['Normal,', 'Dry,', 'Combination,', 'Oily\\n']   \n",
       "\n",
       "                                         ingredients  \n",
       "0  -Pumice Buffing Beads: Exfoliate particles to ...  \n",
       "1  -Crushed Cupuaçu Seeds: Gently buff and smooth...  \n",
       "2                                                NaN  \n",
       "3  Alcohol 80%, Aqua (water), glycerine, hydrogen...  \n",
       "4  -Niacinamide (Vitamin B3): Cleanses, nourishes...  "
      ]
     },
     "execution_count": 177,
     "metadata": {},
     "output_type": "execute_result"
    }
   ],
   "source": [
    "df.head(5)"
   ]
  },
  {
   "cell_type": "code",
   "execution_count": 178,
   "metadata": {},
   "outputs": [],
   "source": [
    "# label\n",
    "# ['bath-and-body-soap', 'body-moisturizers', 'sun-lotion', 'body-care', 'beauty-supplements-bath-body']\n",
    "\n",
    "df.Label[df['Label'] == 'bath-and-body-soap'] = str('soap')\n",
    "df.Label[df['Label'] == 'body-moisturizers'] = str('moisturizers')\n",
    "df.Label[df['Label'] == 'sun-lotion'] = str('SPF')\n",
    "df.Label[df['Label'] == 'body-care'] = str('body')\n",
    "df.Label[df['Label'] == 'beauty-supplements-bath-body'] = str('supplements')"
   ]
  },
  {
   "cell_type": "code",
   "execution_count": 179,
   "metadata": {},
   "outputs": [
    {
     "data": {
      "text/plain": [
       "moisturizers    204\n",
       "SPF             180\n",
       "soap            119\n",
       "supplements      98\n",
       "body             65\n",
       "Name: Label, dtype: int64"
      ]
     },
     "execution_count": 179,
     "metadata": {},
     "output_type": "execute_result"
    }
   ],
   "source": [
    "df['Label'].value_counts()"
   ]
  },
  {
   "cell_type": "code",
   "execution_count": 180,
   "metadata": {},
   "outputs": [
    {
     "data": {
      "text/plain": [
       "0              KP Bump Eraser Body Scrub with 10% AHA\n",
       "1                                  Bum Bum Body Scrub\n",
       "2      Brazilian 4 Play Moisturizing Shower Cream-Gel\n",
       "3                Brazilian Touch Hand Sanitizer Spray\n",
       "4                                       The Body Wash\n",
       "                            ...                      \n",
       "659          Sleep Welle Fortified Calming Tea Refill\n",
       "661                  Beauty Collagen - Lavender Lemon\n",
       "663               Beauty Collagen - Tropical Hibiscus\n",
       "664                                      Night Beauty\n",
       "665                             Madame Ovary Vitamins\n",
       "Name: name, Length: 643, dtype: object"
      ]
     },
     "execution_count": 180,
     "metadata": {},
     "output_type": "execute_result"
    }
   ],
   "source": [
    "# remove duplicated items\n",
    "df['name'].drop_duplicates()\n",
    "\n",
    "# .loc accesses a group of rows and columns by a label or a boolean array\n",
    "# reset_index() resets the index from 0 to length of data "
   ]
  },
  {
   "cell_type": "code",
   "execution_count": 181,
   "metadata": {},
   "outputs": [],
   "source": [
    "# URL\n",
    "df.drop(['URL'], axis = 1, inplace = True)"
   ]
  },
  {
   "cell_type": "code",
   "execution_count": 182,
   "metadata": {},
   "outputs": [
    {
     "name": "stdout",
     "output_type": "stream",
     "text": [
      "<class 'pandas.core.frame.DataFrame'>\n",
      "Int64Index: 661 entries, 0 to 665\n",
      "Data columns (total 6 columns):\n",
      " #   Column       Non-Null Count  Dtype \n",
      "---  ------       --------------  ----- \n",
      " 0   Label        661 non-null    object\n",
      " 1   brand        661 non-null    object\n",
      " 2   name         661 non-null    object\n",
      " 3   price        661 non-null    object\n",
      " 4   skin_type    661 non-null    object\n",
      " 5   ingredients  661 non-null    object\n",
      "dtypes: object(6)\n",
      "memory usage: 36.1+ KB\n"
     ]
    }
   ],
   "source": [
    "df = df.loc[pd.notnull(df['ingredients'])]\n",
    "# removed null ingredient items \n",
    "\n",
    "df.info()"
   ]
  },
  {
   "cell_type": "code",
   "execution_count": 183,
   "metadata": {},
   "outputs": [],
   "source": [
    "df = df.reset_index()"
   ]
  },
  {
   "cell_type": "markdown",
   "metadata": {},
   "source": [
    "## Test block"
   ]
  },
  {
   "cell_type": "code",
   "execution_count": null,
   "metadata": {},
   "outputs": [],
   "source": []
  },
  {
   "cell_type": "markdown",
   "metadata": {},
   "source": [
    "## Cont. "
   ]
  },
  {
   "cell_type": "code",
   "execution_count": 184,
   "metadata": {},
   "outputs": [
    {
     "name": "stderr",
     "output_type": "stream",
     "text": [
      "/Users/kimberlyngoh/anaconda3/lib/python3.7/site-packages/ipykernel_launcher.py:13: SettingWithCopyWarning: \n",
      "A value is trying to be set on a copy of a slice from a DataFrame\n",
      "\n",
      "See the caveats in the documentation: https://pandas.pydata.org/pandas-docs/stable/user_guide/indexing.html#returning-a-view-versus-a-copy\n",
      "  del sys.path[0]\n"
     ]
    }
   ],
   "source": [
    "# price\n",
    "\n",
    "# Regex \n",
    "\n",
    "# \\d+ one or more digit \n",
    "# capturing group (...)\n",
    "\n",
    "pattern = r\"(\\d+).\\d+\"\n",
    "\n",
    "for i in range(len(df)):\n",
    "    content = df['price'][i]\n",
    "    new = re.findall(pattern, content)\n",
    "    df['price'][i] = new\n",
    "# only taking the whole number price \n",
    "\n",
    "# convert argument to numeric \n",
    "# df['price'] = pd.to_numeric(df['price'])"
   ]
  },
  {
   "cell_type": "code",
   "execution_count": 185,
   "metadata": {},
   "outputs": [
    {
     "name": "stderr",
     "output_type": "stream",
     "text": [
      "/Users/kimberlyngoh/anaconda3/lib/python3.7/site-packages/ipykernel_launcher.py:6: SettingWithCopyWarning: \n",
      "A value is trying to be set on a copy of a slice from a DataFrame\n",
      "\n",
      "See the caveats in the documentation: https://pandas.pydata.org/pandas-docs/stable/user_guide/indexing.html#returning-a-view-versus-a-copy\n",
      "  \n"
     ]
    }
   ],
   "source": [
    "# skin_type\n",
    "\n",
    "pattern = re.compile(r\"([a-zA-Z]+)\\\\n\")\n",
    "\n",
    "for i in range(len(df)):\n",
    "    df['skin_type'][i] = re.findall(pattern, df['skin_type'][i])"
   ]
  },
  {
   "cell_type": "code",
   "execution_count": 186,
   "metadata": {},
   "outputs": [],
   "source": [
    "for i in df['skin_type']:\n",
    "    i = np.array(i)\n",
    "    i = i.tolist()\n",
    "    for j in i: \n",
    "        j = j.strip(',\\n')"
   ]
  },
  {
   "cell_type": "code",
   "execution_count": 187,
   "metadata": {},
   "outputs": [
    {
     "data": {
      "text/plain": [
       "240                     []\n",
       "378                 [Oily]\n",
       "591    [Oily, Combination]\n",
       "210                 [Oily]\n",
       "23                      []\n",
       "617                     []\n",
       "385                  [Dry]\n",
       "576                     []\n",
       "97                      []\n",
       "453          [Combination]\n",
       "Name: skin_type, dtype: object"
      ]
     },
     "execution_count": 187,
     "metadata": {},
     "output_type": "execute_result"
    }
   ],
   "source": [
    "df['skin_type'].sample(10)"
   ]
  },
  {
   "cell_type": "code",
   "execution_count": 189,
   "metadata": {},
   "outputs": [
    {
     "data": {
      "text/html": [
       "<div>\n",
       "<style scoped>\n",
       "    .dataframe tbody tr th:only-of-type {\n",
       "        vertical-align: middle;\n",
       "    }\n",
       "\n",
       "    .dataframe tbody tr th {\n",
       "        vertical-align: top;\n",
       "    }\n",
       "\n",
       "    .dataframe thead th {\n",
       "        text-align: right;\n",
       "    }\n",
       "</style>\n",
       "<table border=\"1\" class=\"dataframe\">\n",
       "  <thead>\n",
       "    <tr style=\"text-align: right;\">\n",
       "      <th></th>\n",
       "      <th>Combination</th>\n",
       "      <th>Dry</th>\n",
       "      <th>Normal</th>\n",
       "      <th>Oily</th>\n",
       "    </tr>\n",
       "  </thead>\n",
       "  <tbody>\n",
       "    <tr>\n",
       "      <th>78</th>\n",
       "      <td>1</td>\n",
       "      <td>1</td>\n",
       "      <td>1</td>\n",
       "      <td>1</td>\n",
       "    </tr>\n",
       "    <tr>\n",
       "      <th>352</th>\n",
       "      <td>0</td>\n",
       "      <td>0</td>\n",
       "      <td>0</td>\n",
       "      <td>1</td>\n",
       "    </tr>\n",
       "    <tr>\n",
       "      <th>633</th>\n",
       "      <td>0</td>\n",
       "      <td>0</td>\n",
       "      <td>0</td>\n",
       "      <td>0</td>\n",
       "    </tr>\n",
       "    <tr>\n",
       "      <th>67</th>\n",
       "      <td>1</td>\n",
       "      <td>1</td>\n",
       "      <td>1</td>\n",
       "      <td>1</td>\n",
       "    </tr>\n",
       "    <tr>\n",
       "      <th>65</th>\n",
       "      <td>0</td>\n",
       "      <td>0</td>\n",
       "      <td>0</td>\n",
       "      <td>0</td>\n",
       "    </tr>\n",
       "    <tr>\n",
       "      <th>542</th>\n",
       "      <td>0</td>\n",
       "      <td>0</td>\n",
       "      <td>0</td>\n",
       "      <td>0</td>\n",
       "    </tr>\n",
       "    <tr>\n",
       "      <th>560</th>\n",
       "      <td>0</td>\n",
       "      <td>0</td>\n",
       "      <td>0</td>\n",
       "      <td>0</td>\n",
       "    </tr>\n",
       "    <tr>\n",
       "      <th>150</th>\n",
       "      <td>1</td>\n",
       "      <td>1</td>\n",
       "      <td>1</td>\n",
       "      <td>1</td>\n",
       "    </tr>\n",
       "    <tr>\n",
       "      <th>475</th>\n",
       "      <td>0</td>\n",
       "      <td>0</td>\n",
       "      <td>0</td>\n",
       "      <td>0</td>\n",
       "    </tr>\n",
       "    <tr>\n",
       "      <th>229</th>\n",
       "      <td>0</td>\n",
       "      <td>0</td>\n",
       "      <td>0</td>\n",
       "      <td>0</td>\n",
       "    </tr>\n",
       "  </tbody>\n",
       "</table>\n",
       "</div>"
      ],
      "text/plain": [
       "     Combination  Dry  Normal  Oily\n",
       "78             1    1       1     1\n",
       "352            0    0       0     1\n",
       "633            0    0       0     0\n",
       "67             1    1       1     1\n",
       "65             0    0       0     0\n",
       "542            0    0       0     0\n",
       "560            0    0       0     0\n",
       "150            1    1       1     1\n",
       "475            0    0       0     0\n",
       "229            0    0       0     0"
      ]
     },
     "execution_count": 189,
     "metadata": {},
     "output_type": "execute_result"
    }
   ],
   "source": [
    "## list column dummies\n",
    "\n",
    "dum = df['skin_type'].str.join('|').str.get_dummies() \n",
    "# dum = cosm['skin_type'].str.join('|').str.get_dummies()\n",
    "\n",
    "# str.join gives Normal|Oily|Combination|Dry\n",
    "# separate at | \n",
    "\n",
    "# separate each string in the caller series at passed separator \n",
    "# df returned with all the possible values after splitting every string\n",
    "# If the text value in original data frame at same index contains the string (Column name/ Splitted values) \n",
    "# then the value at that position is 1 otherwise, 0.\n",
    "\n",
    "dum.sample(n=10)"
   ]
  },
  {
   "cell_type": "code",
   "execution_count": 190,
   "metadata": {},
   "outputs": [
    {
     "data": {
      "text/html": [
       "<div>\n",
       "<style scoped>\n",
       "    .dataframe tbody tr th:only-of-type {\n",
       "        vertical-align: middle;\n",
       "    }\n",
       "\n",
       "    .dataframe tbody tr th {\n",
       "        vertical-align: top;\n",
       "    }\n",
       "\n",
       "    .dataframe thead th {\n",
       "        text-align: right;\n",
       "    }\n",
       "</style>\n",
       "<table border=\"1\" class=\"dataframe\">\n",
       "  <thead>\n",
       "    <tr style=\"text-align: right;\">\n",
       "      <th></th>\n",
       "      <th>index</th>\n",
       "      <th>Label</th>\n",
       "      <th>brand</th>\n",
       "      <th>name</th>\n",
       "      <th>price</th>\n",
       "      <th>ingredients</th>\n",
       "      <th>Combination</th>\n",
       "      <th>Dry</th>\n",
       "      <th>Normal</th>\n",
       "      <th>Oily</th>\n",
       "    </tr>\n",
       "  </thead>\n",
       "  <tbody>\n",
       "    <tr>\n",
       "      <th>586</th>\n",
       "      <td>591</td>\n",
       "      <td>supplements</td>\n",
       "      <td>SEPHORA COLLECTION</td>\n",
       "      <td>Sephora Collection x OLLY: Flawless Complexion</td>\n",
       "      <td>[15]</td>\n",
       "      <td>-Minerals: Zinc is essential for the generatio...</td>\n",
       "      <td>0</td>\n",
       "      <td>0</td>\n",
       "      <td>0</td>\n",
       "      <td>0</td>\n",
       "    </tr>\n",
       "    <tr>\n",
       "      <th>212</th>\n",
       "      <td>215</td>\n",
       "      <td>moisturizers</td>\n",
       "      <td>FRESH</td>\n",
       "      <td>Fresh Life Body Lotion</td>\n",
       "      <td>[26]</td>\n",
       "      <td>-Shea Butter: Moisturizes.\\n-Vitamins C and E:...</td>\n",
       "      <td>0</td>\n",
       "      <td>0</td>\n",
       "      <td>0</td>\n",
       "      <td>0</td>\n",
       "    </tr>\n",
       "    <tr>\n",
       "      <th>377</th>\n",
       "      <td>381</td>\n",
       "      <td>SPF</td>\n",
       "      <td>MURAD</td>\n",
       "      <td>Oil and Pore Control Mattifier Broad Spectrum ...</td>\n",
       "      <td>[42]</td>\n",
       "      <td>-Oil-Trapping Microspheres: Deliver a smooth, ...</td>\n",
       "      <td>0</td>\n",
       "      <td>0</td>\n",
       "      <td>0</td>\n",
       "      <td>1</td>\n",
       "    </tr>\n",
       "    <tr>\n",
       "      <th>370</th>\n",
       "      <td>374</td>\n",
       "      <td>SPF</td>\n",
       "      <td>LANCÔME</td>\n",
       "      <td>Rénergie Lift Multi-Action Ultra Dark Spot Cor...</td>\n",
       "      <td>[109]</td>\n",
       "      <td>-Avobenzone (3%), Octisalate (5%), and Octocry...</td>\n",
       "      <td>0</td>\n",
       "      <td>0</td>\n",
       "      <td>0</td>\n",
       "      <td>1</td>\n",
       "    </tr>\n",
       "    <tr>\n",
       "      <th>516</th>\n",
       "      <td>520</td>\n",
       "      <td>body</td>\n",
       "      <td>NUFACE</td>\n",
       "      <td>NuBODY Skin Toning Device</td>\n",
       "      <td>[399]</td>\n",
       "      <td>Hydrating Leave-On Gel Primer:\\n-Hyaluronic ac...</td>\n",
       "      <td>0</td>\n",
       "      <td>0</td>\n",
       "      <td>0</td>\n",
       "      <td>1</td>\n",
       "    </tr>\n",
       "    <tr>\n",
       "      <th>257</th>\n",
       "      <td>260</td>\n",
       "      <td>moisturizers</td>\n",
       "      <td>REN CLEAN SKINCARE</td>\n",
       "      <td>Moroccan Rose Otto Body Lotion</td>\n",
       "      <td>[46]</td>\n",
       "      <td>-Rose Otto Oil Moroccan Rose: Hydrates, reduce...</td>\n",
       "      <td>0</td>\n",
       "      <td>0</td>\n",
       "      <td>0</td>\n",
       "      <td>0</td>\n",
       "    </tr>\n",
       "    <tr>\n",
       "      <th>643</th>\n",
       "      <td>648</td>\n",
       "      <td>supplements</td>\n",
       "      <td>MOON JUICE</td>\n",
       "      <td>Cosmic Gold</td>\n",
       "      <td>[40]</td>\n",
       "      <td>-Organic Turmeric: Supports healthy inflammato...</td>\n",
       "      <td>0</td>\n",
       "      <td>0</td>\n",
       "      <td>0</td>\n",
       "      <td>0</td>\n",
       "    </tr>\n",
       "    <tr>\n",
       "      <th>38</th>\n",
       "      <td>39</td>\n",
       "      <td>soap</td>\n",
       "      <td>L'OCCITANE</td>\n",
       "      <td>Shea Butter Extra Gentle Soap</td>\n",
       "      <td>[12]</td>\n",
       "      <td>L'Occitane's famously luxe products are nothin...</td>\n",
       "      <td>0</td>\n",
       "      <td>0</td>\n",
       "      <td>0</td>\n",
       "      <td>0</td>\n",
       "    </tr>\n",
       "    <tr>\n",
       "      <th>653</th>\n",
       "      <td>658</td>\n",
       "      <td>supplements</td>\n",
       "      <td>SEPHORA COLLECTION</td>\n",
       "      <td>Sephora Collection x OLLY: Radiant Sleep Trave...</td>\n",
       "      <td>[7]</td>\n",
       "      <td>-Melatonin: Works with your body’s chemistry t...</td>\n",
       "      <td>0</td>\n",
       "      <td>0</td>\n",
       "      <td>0</td>\n",
       "      <td>0</td>\n",
       "    </tr>\n",
       "    <tr>\n",
       "      <th>598</th>\n",
       "      <td>603</td>\n",
       "      <td>supplements</td>\n",
       "      <td>HUM NUTRITION</td>\n",
       "      <td>Big Chill™ Stress Management Supplement</td>\n",
       "      <td>[20]</td>\n",
       "      <td>Free of artificial colors, flavors, and preser...</td>\n",
       "      <td>0</td>\n",
       "      <td>0</td>\n",
       "      <td>0</td>\n",
       "      <td>0</td>\n",
       "    </tr>\n",
       "  </tbody>\n",
       "</table>\n",
       "</div>"
      ],
      "text/plain": [
       "     index         Label               brand  \\\n",
       "586    591   supplements  SEPHORA COLLECTION   \n",
       "212    215  moisturizers               FRESH   \n",
       "377    381           SPF               MURAD   \n",
       "370    374           SPF             LANCÔME   \n",
       "516    520          body              NUFACE   \n",
       "257    260  moisturizers  REN CLEAN SKINCARE   \n",
       "643    648   supplements          MOON JUICE   \n",
       "38      39          soap          L'OCCITANE   \n",
       "653    658   supplements  SEPHORA COLLECTION   \n",
       "598    603   supplements       HUM NUTRITION   \n",
       "\n",
       "                                                  name  price  \\\n",
       "586     Sephora Collection x OLLY: Flawless Complexion   [15]   \n",
       "212                             Fresh Life Body Lotion   [26]   \n",
       "377  Oil and Pore Control Mattifier Broad Spectrum ...   [42]   \n",
       "370  Rénergie Lift Multi-Action Ultra Dark Spot Cor...  [109]   \n",
       "516                          NuBODY Skin Toning Device  [399]   \n",
       "257                     Moroccan Rose Otto Body Lotion   [46]   \n",
       "643                                        Cosmic Gold   [40]   \n",
       "38                       Shea Butter Extra Gentle Soap   [12]   \n",
       "653  Sephora Collection x OLLY: Radiant Sleep Trave...    [7]   \n",
       "598            Big Chill™ Stress Management Supplement   [20]   \n",
       "\n",
       "                                           ingredients  Combination  Dry  \\\n",
       "586  -Minerals: Zinc is essential for the generatio...            0    0   \n",
       "212  -Shea Butter: Moisturizes.\\n-Vitamins C and E:...            0    0   \n",
       "377  -Oil-Trapping Microspheres: Deliver a smooth, ...            0    0   \n",
       "370  -Avobenzone (3%), Octisalate (5%), and Octocry...            0    0   \n",
       "516  Hydrating Leave-On Gel Primer:\\n-Hyaluronic ac...            0    0   \n",
       "257  -Rose Otto Oil Moroccan Rose: Hydrates, reduce...            0    0   \n",
       "643  -Organic Turmeric: Supports healthy inflammato...            0    0   \n",
       "38   L'Occitane's famously luxe products are nothin...            0    0   \n",
       "653  -Melatonin: Works with your body’s chemistry t...            0    0   \n",
       "598  Free of artificial colors, flavors, and preser...            0    0   \n",
       "\n",
       "     Normal  Oily  \n",
       "586       0     0  \n",
       "212       0     0  \n",
       "377       0     1  \n",
       "370       0     1  \n",
       "516       0     1  \n",
       "257       0     0  \n",
       "643       0     0  \n",
       "38        0     0  \n",
       "653       0     0  \n",
       "598       0     0  "
      ]
     },
     "execution_count": 190,
     "metadata": {},
     "output_type": "execute_result"
    }
   ],
   "source": [
    "df3 = df.join(dum).drop('skin_type', axis=1)\n",
    "# cosm3 = cosm.join(dum).drop('skin_type', axis = 1)\n",
    "\n",
    "df3.sample(n=10)"
   ]
  },
  {
   "cell_type": "code",
   "execution_count": 191,
   "metadata": {},
   "outputs": [
    {
     "name": "stderr",
     "output_type": "stream",
     "text": [
      "/Users/kimberlyngoh/anaconda3/lib/python3.7/site-packages/ipykernel_launcher.py:10: SettingWithCopyWarning: \n",
      "A value is trying to be set on a copy of a slice from a DataFrame\n",
      "\n",
      "See the caveats in the documentation: https://pandas.pydata.org/pandas-docs/stable/user_guide/indexing.html#returning-a-view-versus-a-copy\n",
      "  # Remove the CWD from sys.path while we load stuff.\n"
     ]
    }
   ],
   "source": [
    "## tokenize ingredients\n",
    "\n",
    "a = [t.split('\\r\\n\\r\\n') for t in df['ingredients']]\n",
    "pattern = ['\\r\\n', '-\\w+: ', 'Please', 'No Info', 'This product', 'Visit']\n",
    "\n",
    "for i in range(len(df)):\n",
    "    num = len(a[i]) # a is each entry of ingredients in a list \n",
    "    for j in range(num):\n",
    "        if all(x not in a[i][j] for x in pattern):\n",
    "            df3['ingredients'][i] = a[i][j]"
   ]
  },
  {
   "cell_type": "code",
   "execution_count": 192,
   "metadata": {},
   "outputs": [],
   "source": [
    "# save the file\n",
    "\n",
    "df3.to_csv('body-clean.csv', encoding = 'utf-8-sig', index = False)"
   ]
  },
  {
   "cell_type": "code",
   "execution_count": 196,
   "metadata": {},
   "outputs": [
    {
     "data": {
      "text/plain": [
       "521    Alcohol Denat., Water, Propylene Glycol, Sodiu...\n",
       "Name: ingredients, dtype: object"
      ]
     },
     "execution_count": 196,
     "metadata": {},
     "output_type": "execute_result"
    }
   ],
   "source": [
    "df3['ingredients'].sample(n=1)"
   ]
  },
  {
   "cell_type": "code",
   "execution_count": null,
   "metadata": {},
   "outputs": [],
   "source": []
  }
 ],
 "metadata": {
  "kernelspec": {
   "display_name": "Python 3",
   "language": "python",
   "name": "python3"
  },
  "language_info": {
   "codemirror_mode": {
    "name": "ipython",
    "version": 3
   },
   "file_extension": ".py",
   "mimetype": "text/x-python",
   "name": "python",
   "nbconvert_exporter": "python",
   "pygments_lexer": "ipython3",
   "version": "3.7.6"
  }
 },
 "nbformat": 4,
 "nbformat_minor": 4
}
