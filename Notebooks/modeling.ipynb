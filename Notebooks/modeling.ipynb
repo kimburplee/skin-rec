{
 "cells": [
  {
   "cell_type": "markdown",
   "metadata": {},
   "source": [
    "## Import libraries"
   ]
  },
  {
   "cell_type": "code",
   "execution_count": 2,
   "metadata": {},
   "outputs": [],
   "source": [
    "import pandas as pd\n",
    "import numpy as np \n",
    "from sklearn.manifold import TSNE"
   ]
  },
  {
   "cell_type": "markdown",
   "metadata": {},
   "source": [
    "## Creating options (for dropdown menu later)"
   ]
  },
  {
   "cell_type": "code",
   "execution_count": 3,
   "metadata": {},
   "outputs": [],
   "source": [
    "# Load the data \n",
    "df = pd.read_csv('body-clean.csv')"
   ]
  },
  {
   "cell_type": "code",
   "execution_count": 4,
   "metadata": {},
   "outputs": [],
   "source": [
    "option_1 = df.Label.unique().tolist()\n",
    "option_1 = ['soap', 'moisturizers', 'SPF', 'body']"
   ]
  },
  {
   "cell_type": "code",
   "execution_count": 5,
   "metadata": {},
   "outputs": [
    {
     "name": "stdout",
     "output_type": "stream",
     "text": [
      "['soap', 'moisturizers', 'SPF', 'body']\n",
      "['Combination', 'Dry', 'Normal', 'Oily']\n"
     ]
    }
   ],
   "source": [
    "option_2 = df.columns[6:].tolist()\n",
    "# all possible combinations for the option choices \n",
    "\n",
    "print(option_1)\n",
    "print(option_2)"
   ]
  },
  {
   "cell_type": "code",
   "execution_count": 6,
   "metadata": {},
   "outputs": [
    {
     "name": "stderr",
     "output_type": "stream",
     "text": [
      "/Users/kimberlyngoh/anaconda3/lib/python3.7/site-packages/ipykernel_launcher.py:4: UserWarning: Boolean Series key will be reindexed to match DataFrame index.\n",
      "  after removing the cwd from sys.path.\n"
     ]
    }
   ],
   "source": [
    "# Example: Moisturizers for Dry skin\n",
    "\n",
    "# Filter data by given options \n",
    "df2 = df[df['Label'] == 'moisturizers'][df['Dry'] == 1]\n",
    "df2 = df2.reset_index() "
   ]
  },
  {
   "cell_type": "code",
   "execution_count": 7,
   "metadata": {},
   "outputs": [
    {
     "data": {
      "text/html": [
       "<div>\n",
       "<style scoped>\n",
       "    .dataframe tbody tr th:only-of-type {\n",
       "        vertical-align: middle;\n",
       "    }\n",
       "\n",
       "    .dataframe tbody tr th {\n",
       "        vertical-align: top;\n",
       "    }\n",
       "\n",
       "    .dataframe thead th {\n",
       "        text-align: right;\n",
       "    }\n",
       "</style>\n",
       "<table border=\"1\" class=\"dataframe\">\n",
       "  <thead>\n",
       "    <tr style=\"text-align: right;\">\n",
       "      <th></th>\n",
       "      <th>level_0</th>\n",
       "      <th>index</th>\n",
       "      <th>Label</th>\n",
       "      <th>brand</th>\n",
       "      <th>name</th>\n",
       "      <th>price</th>\n",
       "      <th>ingredients</th>\n",
       "      <th>Combination</th>\n",
       "      <th>Dry</th>\n",
       "      <th>Normal</th>\n",
       "      <th>Oily</th>\n",
       "    </tr>\n",
       "  </thead>\n",
       "  <tbody>\n",
       "    <tr>\n",
       "      <th>0</th>\n",
       "      <td>124</td>\n",
       "      <td>127</td>\n",
       "      <td>moisturizers</td>\n",
       "      <td>JOSIE MARAN</td>\n",
       "      <td>Whipped Argan Oil Body Butter</td>\n",
       "      <td>['36']</td>\n",
       "      <td>-100 Percent Pure Argan Oil: Nature's richest ...</td>\n",
       "      <td>1</td>\n",
       "      <td>1</td>\n",
       "      <td>1</td>\n",
       "      <td>1</td>\n",
       "    </tr>\n",
       "    <tr>\n",
       "      <th>1</th>\n",
       "      <td>128</td>\n",
       "      <td>131</td>\n",
       "      <td>moisturizers</td>\n",
       "      <td>CAUDALIE</td>\n",
       "      <td>Vinosculpt Lift &amp; Firm Body Cream</td>\n",
       "      <td>['45']</td>\n",
       "      <td>-Grape Polyphenols and Iris Extract: Provide a...</td>\n",
       "      <td>0</td>\n",
       "      <td>1</td>\n",
       "      <td>0</td>\n",
       "      <td>0</td>\n",
       "    </tr>\n",
       "    <tr>\n",
       "      <th>2</th>\n",
       "      <td>139</td>\n",
       "      <td>142</td>\n",
       "      <td>moisturizers</td>\n",
       "      <td>SOL DE JANEIRO</td>\n",
       "      <td>Samba 2-Step Foot Fetish Care</td>\n",
       "      <td>['27']</td>\n",
       "      <td>-Cupuaçu Butter: Full of fatty-acids, phytoste...</td>\n",
       "      <td>1</td>\n",
       "      <td>1</td>\n",
       "      <td>1</td>\n",
       "      <td>1</td>\n",
       "    </tr>\n",
       "    <tr>\n",
       "      <th>3</th>\n",
       "      <td>144</td>\n",
       "      <td>147</td>\n",
       "      <td>moisturizers</td>\n",
       "      <td>KIEHL'S SINCE 1851</td>\n",
       "      <td>Creme de Corps Nourishing Dry Body Oil</td>\n",
       "      <td>['35']</td>\n",
       "      <td>-Grapeseed Oil: Rich in essential fatty acids ...</td>\n",
       "      <td>0</td>\n",
       "      <td>1</td>\n",
       "      <td>1</td>\n",
       "      <td>0</td>\n",
       "    </tr>\n",
       "    <tr>\n",
       "      <th>4</th>\n",
       "      <td>147</td>\n",
       "      <td>150</td>\n",
       "      <td>moisturizers</td>\n",
       "      <td>REN CLEAN SKINCARE</td>\n",
       "      <td>AHA Smart Renewal Body Serum</td>\n",
       "      <td>['42']</td>\n",
       "      <td>-Lactic Acid: A natural L(+) lactic acid produ...</td>\n",
       "      <td>1</td>\n",
       "      <td>1</td>\n",
       "      <td>1</td>\n",
       "      <td>1</td>\n",
       "    </tr>\n",
       "  </tbody>\n",
       "</table>\n",
       "</div>"
      ],
      "text/plain": [
       "   level_0  index         Label               brand  \\\n",
       "0      124    127  moisturizers         JOSIE MARAN   \n",
       "1      128    131  moisturizers            CAUDALIE   \n",
       "2      139    142  moisturizers      SOL DE JANEIRO   \n",
       "3      144    147  moisturizers  KIEHL'S SINCE 1851   \n",
       "4      147    150  moisturizers  REN CLEAN SKINCARE   \n",
       "\n",
       "                                     name   price  \\\n",
       "0           Whipped Argan Oil Body Butter  ['36']   \n",
       "1       Vinosculpt Lift & Firm Body Cream  ['45']   \n",
       "2           Samba 2-Step Foot Fetish Care  ['27']   \n",
       "3  Creme de Corps Nourishing Dry Body Oil  ['35']   \n",
       "4            AHA Smart Renewal Body Serum  ['42']   \n",
       "\n",
       "                                         ingredients  Combination  Dry  \\\n",
       "0  -100 Percent Pure Argan Oil: Nature's richest ...            1    1   \n",
       "1  -Grape Polyphenols and Iris Extract: Provide a...            0    1   \n",
       "2  -Cupuaçu Butter: Full of fatty-acids, phytoste...            1    1   \n",
       "3  -Grapeseed Oil: Rich in essential fatty acids ...            0    1   \n",
       "4  -Lactic Acid: A natural L(+) lactic acid produ...            1    1   \n",
       "\n",
       "   Normal  Oily  \n",
       "0       1     1  \n",
       "1       0     0  \n",
       "2       1     1  \n",
       "3       1     0  \n",
       "4       1     1  "
      ]
     },
     "execution_count": 7,
     "metadata": {},
     "output_type": "execute_result"
    }
   ],
   "source": [
    "df2.head(5)"
   ]
  },
  {
   "cell_type": "markdown",
   "metadata": {},
   "source": [
    "## 1. Tokenizing ingredients list\n",
    "## 2. Apply dimensionality reduction to reduce features"
   ]
  },
  {
   "cell_type": "code",
   "execution_count": 12,
   "metadata": {},
   "outputs": [],
   "source": [
    "# tokenizing the list of ingredients in Ingredients column \n",
    "# after splitting into tokens, make a binary bag of words\n",
    "# create dictionary with tokens, ingredient_idx "
   ]
  },
  {
   "cell_type": "code",
   "execution_count": 8,
   "metadata": {},
   "outputs": [],
   "source": [
    "def my_recommender(op_1, op_2): \n",
    "    new = df[df['Label'] == op_1][df[op_2] == 1]\n",
    "    new = new.reset_index()\n",
    "    \n",
    "    # embedding each ingredient\n",
    "    ingredient_idx = {}\n",
    "    corpus = []\n",
    "    idx = 0 \n",
    "    \n",
    "    for i in range(len(new)):\n",
    "        ingred = new['ingredients'][i]\n",
    "        ingred = ingred.lower()\n",
    "        tokens = ingred.split(', ')\n",
    "        corpus.append(tokens)\n",
    "        \n",
    "        # tokenized words put into corpus \n",
    "        \n",
    "        for ingredient in tokens:\n",
    "            if ingredient not in ingredient_idx:\n",
    "                ingredient_idx[ingredient] = idx\n",
    "                idx += 1\n",
    "                \n",
    "                # words put into dictionary \n",
    "                # checks duplication \n",
    "                # index increases by 1 \n",
    "    \n",
    "    # DTM (cosmetic-ingredient)\n",
    "    # cosmetic product corresponds to a document\n",
    "    # chemical composition corresponds to term \n",
    "    \n",
    "    # number of items, tokens (M, N)\n",
    "    M = len(new)\n",
    "    N = len(ingredient_idx)\n",
    "    \n",
    "    # initialize matrix of zeros \n",
    "    A = np.zeros(shape = (M,N))\n",
    "    \n",
    "    # define one-hot encoder func\n",
    "    # 1 if ingredient is in cosmetic, otherwise 0 \n",
    "    def oh_enc(tokens):\n",
    "        x = np.zeros(N)\n",
    "        for t in tokens: \n",
    "            idx = ingredient_idx[t]\n",
    "            # '1' at corresponding indices\n",
    "            x[idx] = 1 \n",
    "        return x \n",
    "    \n",
    "    # apply oh_enc to tokens in corpus \n",
    "    # set values at each row of matrix \n",
    "    \n",
    "    i = 0 \n",
    "    for tokens in corpus:\n",
    "        A[i, :]= oh_enc(tokens)\n",
    "        i += 1\n",
    "    \n",
    "    # dimension reduction w t-SNE\n",
    "    model = TSNE(n_components =2, learning_rate = 200)\n",
    "    tsne_features = model.fit_transform(A) \n",
    "    \n",
    "    # make X, Y columns\n",
    "    new['X'] = tsne_features[:,0]\n",
    "    new['Y'] = tsne_features[:,1]\n",
    "    \n",
    "    return new"
   ]
  },
  {
   "cell_type": "code",
   "execution_count": 10,
   "metadata": {},
   "outputs": [
    {
     "name": "stderr",
     "output_type": "stream",
     "text": [
      "/Users/kimberlyngoh/anaconda3/lib/python3.7/site-packages/ipykernel_launcher.py:2: UserWarning: Boolean Series key will be reindexed to match DataFrame index.\n",
      "  \n",
      "/Users/kimberlyngoh/anaconda3/lib/python3.7/site-packages/ipykernel_launcher.py:2: UserWarning: Boolean Series key will be reindexed to match DataFrame index.\n",
      "  \n",
      "/Users/kimberlyngoh/anaconda3/lib/python3.7/site-packages/ipykernel_launcher.py:2: UserWarning: Boolean Series key will be reindexed to match DataFrame index.\n",
      "  \n",
      "/Users/kimberlyngoh/anaconda3/lib/python3.7/site-packages/ipykernel_launcher.py:2: UserWarning: Boolean Series key will be reindexed to match DataFrame index.\n",
      "  \n",
      "/Users/kimberlyngoh/anaconda3/lib/python3.7/site-packages/ipykernel_launcher.py:2: UserWarning: Boolean Series key will be reindexed to match DataFrame index.\n",
      "  \n",
      "/Users/kimberlyngoh/anaconda3/lib/python3.7/site-packages/ipykernel_launcher.py:2: UserWarning: Boolean Series key will be reindexed to match DataFrame index.\n",
      "  \n",
      "/Users/kimberlyngoh/anaconda3/lib/python3.7/site-packages/ipykernel_launcher.py:2: UserWarning: Boolean Series key will be reindexed to match DataFrame index.\n",
      "  \n",
      "/Users/kimberlyngoh/anaconda3/lib/python3.7/site-packages/ipykernel_launcher.py:2: UserWarning: Boolean Series key will be reindexed to match DataFrame index.\n",
      "  \n",
      "/Users/kimberlyngoh/anaconda3/lib/python3.7/site-packages/ipykernel_launcher.py:2: UserWarning: Boolean Series key will be reindexed to match DataFrame index.\n",
      "  \n",
      "/Users/kimberlyngoh/anaconda3/lib/python3.7/site-packages/ipykernel_launcher.py:2: UserWarning: Boolean Series key will be reindexed to match DataFrame index.\n",
      "  \n",
      "/Users/kimberlyngoh/anaconda3/lib/python3.7/site-packages/ipykernel_launcher.py:2: UserWarning: Boolean Series key will be reindexed to match DataFrame index.\n",
      "  \n",
      "/Users/kimberlyngoh/anaconda3/lib/python3.7/site-packages/ipykernel_launcher.py:2: UserWarning: Boolean Series key will be reindexed to match DataFrame index.\n",
      "  \n",
      "/Users/kimberlyngoh/anaconda3/lib/python3.7/site-packages/ipykernel_launcher.py:2: UserWarning: Boolean Series key will be reindexed to match DataFrame index.\n",
      "  \n",
      "/Users/kimberlyngoh/anaconda3/lib/python3.7/site-packages/ipykernel_launcher.py:2: UserWarning: Boolean Series key will be reindexed to match DataFrame index.\n",
      "  \n",
      "/Users/kimberlyngoh/anaconda3/lib/python3.7/site-packages/ipykernel_launcher.py:2: UserWarning: Boolean Series key will be reindexed to match DataFrame index.\n",
      "  \n",
      "/Users/kimberlyngoh/anaconda3/lib/python3.7/site-packages/ipykernel_launcher.py:2: UserWarning: Boolean Series key will be reindexed to match DataFrame index.\n",
      "  \n"
     ]
    }
   ],
   "source": [
    "# Create df for all combos \n",
    "combo_df = pd.DataFrame() \n",
    "for op_1 in option_1:\n",
    "    for op_2 in option_2:\n",
    "        temp = my_recommender(op_1,op_2)\n",
    "        temp['Label'] = op_1 + '_' + op_2\n",
    "        combo_df = pd.concat([combo_df, temp])"
   ]
  },
  {
   "cell_type": "markdown",
   "metadata": {},
   "source": [
    "## Save file"
   ]
  },
  {
   "cell_type": "code",
   "execution_count": 11,
   "metadata": {},
   "outputs": [],
   "source": [
    "combo_df.to_csv('body_tsne_2.csv', encoding = 'utf-8-sig', index = False)"
   ]
  },
  {
   "cell_type": "code",
   "execution_count": 35,
   "metadata": {},
   "outputs": [
    {
     "data": {
      "text/html": [
       "<div>\n",
       "<style scoped>\n",
       "    .dataframe tbody tr th:only-of-type {\n",
       "        vertical-align: middle;\n",
       "    }\n",
       "\n",
       "    .dataframe tbody tr th {\n",
       "        vertical-align: top;\n",
       "    }\n",
       "\n",
       "    .dataframe thead th {\n",
       "        text-align: right;\n",
       "    }\n",
       "</style>\n",
       "<table border=\"1\" class=\"dataframe\">\n",
       "  <thead>\n",
       "    <tr style=\"text-align: right;\">\n",
       "      <th></th>\n",
       "      <th>level_0</th>\n",
       "      <th>index</th>\n",
       "      <th>Label</th>\n",
       "      <th>brand</th>\n",
       "      <th>name</th>\n",
       "      <th>price</th>\n",
       "      <th>ingredients</th>\n",
       "      <th>Combination</th>\n",
       "      <th>Dry</th>\n",
       "      <th>Normal</th>\n",
       "      <th>Oily</th>\n",
       "      <th>X</th>\n",
       "      <th>Y</th>\n",
       "    </tr>\n",
       "  </thead>\n",
       "  <tbody>\n",
       "    <tr>\n",
       "      <th>0</th>\n",
       "      <td>0</td>\n",
       "      <td>0</td>\n",
       "      <td>soap_Combination</td>\n",
       "      <td>FIRST AID BEAUTY</td>\n",
       "      <td>KP Bump Eraser Body Scrub with 10% AHA</td>\n",
       "      <td>['28']</td>\n",
       "      <td>-Pumice Buffing Beads: Exfoliate particles to ...</td>\n",
       "      <td>1</td>\n",
       "      <td>0</td>\n",
       "      <td>0</td>\n",
       "      <td>0</td>\n",
       "      <td>144.635223</td>\n",
       "      <td>-113.707756</td>\n",
       "    </tr>\n",
       "    <tr>\n",
       "      <th>1</th>\n",
       "      <td>6</td>\n",
       "      <td>7</td>\n",
       "      <td>soap_Combination</td>\n",
       "      <td>HERBIVORE</td>\n",
       "      <td>Coco Rose Exfoliating Body Scrub</td>\n",
       "      <td>['36']</td>\n",
       "      <td>-Virgin Coconut Oil: Provides intensive hydrat...</td>\n",
       "      <td>1</td>\n",
       "      <td>1</td>\n",
       "      <td>1</td>\n",
       "      <td>1</td>\n",
       "      <td>-56.692722</td>\n",
       "      <td>-39.383183</td>\n",
       "    </tr>\n",
       "    <tr>\n",
       "      <th>2</th>\n",
       "      <td>19</td>\n",
       "      <td>20</td>\n",
       "      <td>soap_Combination</td>\n",
       "      <td>HERBIVORE</td>\n",
       "      <td>Coconut Milk Bath Soak</td>\n",
       "      <td>['18']</td>\n",
       "      <td>-Coconut Milk Powder: Hydrates and soothes, le...</td>\n",
       "      <td>1</td>\n",
       "      <td>1</td>\n",
       "      <td>1</td>\n",
       "      <td>1</td>\n",
       "      <td>36.760876</td>\n",
       "      <td>-88.427170</td>\n",
       "    </tr>\n",
       "    <tr>\n",
       "      <th>3</th>\n",
       "      <td>40</td>\n",
       "      <td>41</td>\n",
       "      <td>soap_Combination</td>\n",
       "      <td>MOROCCANOIL</td>\n",
       "      <td>Shower Gel</td>\n",
       "      <td>['30']</td>\n",
       "      <td>-Argan Oil: Extremely rich in tocopherols (vit...</td>\n",
       "      <td>1</td>\n",
       "      <td>1</td>\n",
       "      <td>1</td>\n",
       "      <td>1</td>\n",
       "      <td>-138.457291</td>\n",
       "      <td>35.369347</td>\n",
       "    </tr>\n",
       "    <tr>\n",
       "      <th>4</th>\n",
       "      <td>49</td>\n",
       "      <td>50</td>\n",
       "      <td>soap_Combination</td>\n",
       "      <td>CAUDALIE</td>\n",
       "      <td>Crushed Cabernet Scrub</td>\n",
       "      <td>['38']</td>\n",
       "      <td>-Crushed Grape Seeds and Brown Sugar: Exfoliat...</td>\n",
       "      <td>1</td>\n",
       "      <td>1</td>\n",
       "      <td>1</td>\n",
       "      <td>1</td>\n",
       "      <td>-155.144394</td>\n",
       "      <td>-90.788910</td>\n",
       "    </tr>\n",
       "  </tbody>\n",
       "</table>\n",
       "</div>"
      ],
      "text/plain": [
       "   level_0  index             Label             brand  \\\n",
       "0        0      0  soap_Combination  FIRST AID BEAUTY   \n",
       "1        6      7  soap_Combination         HERBIVORE   \n",
       "2       19     20  soap_Combination         HERBIVORE   \n",
       "3       40     41  soap_Combination       MOROCCANOIL   \n",
       "4       49     50  soap_Combination          CAUDALIE   \n",
       "\n",
       "                                     name   price  \\\n",
       "0  KP Bump Eraser Body Scrub with 10% AHA  ['28']   \n",
       "1        Coco Rose Exfoliating Body Scrub  ['36']   \n",
       "2                  Coconut Milk Bath Soak  ['18']   \n",
       "3                              Shower Gel  ['30']   \n",
       "4                  Crushed Cabernet Scrub  ['38']   \n",
       "\n",
       "                                         ingredients  Combination  Dry  \\\n",
       "0  -Pumice Buffing Beads: Exfoliate particles to ...            1    0   \n",
       "1  -Virgin Coconut Oil: Provides intensive hydrat...            1    1   \n",
       "2  -Coconut Milk Powder: Hydrates and soothes, le...            1    1   \n",
       "3  -Argan Oil: Extremely rich in tocopherols (vit...            1    1   \n",
       "4  -Crushed Grape Seeds and Brown Sugar: Exfoliat...            1    1   \n",
       "\n",
       "   Normal  Oily           X           Y  \n",
       "0       0     0  144.635223 -113.707756  \n",
       "1       1     1  -56.692722  -39.383183  \n",
       "2       1     1   36.760876  -88.427170  \n",
       "3       1     1 -138.457291   35.369347  \n",
       "4       1     1 -155.144394  -90.788910  "
      ]
     },
     "execution_count": 35,
     "metadata": {},
     "output_type": "execute_result"
    }
   ],
   "source": [
    "combo_df.head(5)"
   ]
  },
  {
   "cell_type": "code",
   "execution_count": 25,
   "metadata": {},
   "outputs": [
    {
     "data": {
      "text/plain": [
       "[89]"
      ]
     },
     "execution_count": 25,
     "metadata": {},
     "output_type": "execute_result"
    }
   ],
   "source": [
    "combo_df.index[combo_df['name'] == 'Sunless Tan Luminizing Body Serum'].tolist()"
   ]
  },
  {
   "cell_type": "code",
   "execution_count": 38,
   "metadata": {},
   "outputs": [
    {
     "data": {
      "text/plain": [
       "'At COOLA, we’re passionate about creating beautiful product experiences that embody a happy, healthy lifestyle. We believe that clean beauty should feel as good as it is healthy, which is why we’re on a quest to develop organic products you’ll love wearing everyday.'"
      ]
     },
     "execution_count": 38,
     "metadata": {},
     "output_type": "execute_result"
    }
   ],
   "source": [
    "combo_df['ingredients'].loc[89,]"
   ]
  },
  {
   "cell_type": "code",
   "execution_count": null,
   "metadata": {},
   "outputs": [],
   "source": []
  }
 ],
 "metadata": {
  "kernelspec": {
   "display_name": "Python 3",
   "language": "python",
   "name": "python3"
  },
  "language_info": {
   "codemirror_mode": {
    "name": "ipython",
    "version": 3
   },
   "file_extension": ".py",
   "mimetype": "text/x-python",
   "name": "python",
   "nbconvert_exporter": "python",
   "pygments_lexer": "ipython3",
   "version": "3.7.6"
  }
 },
 "nbformat": 4,
 "nbformat_minor": 4
}
