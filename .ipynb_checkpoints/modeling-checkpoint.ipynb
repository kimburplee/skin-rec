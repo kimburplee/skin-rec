{
 "cells": [
  {
   "cell_type": "code",
   "execution_count": 1,
   "metadata": {},
   "outputs": [],
   "source": [
    "import pandas as pd\n",
    "import numpy as np \n",
    "from sklearn.manifold import TSNE"
   ]
  },
  {
   "cell_type": "code",
   "execution_count": 2,
   "metadata": {},
   "outputs": [],
   "source": [
    "# Load the data \n",
    "cosm_2 = pd.read_csv('cosmetic_p.csv')"
   ]
  },
  {
   "cell_type": "code",
   "execution_count": 24,
   "metadata": {},
   "outputs": [
    {
     "name": "stdout",
     "output_type": "stream",
     "text": [
      "['Combination', 'Dry', 'Normal', 'Oily', 'Sensitive']\n"
     ]
    }
   ],
   "source": [
    "option_2 = ['Combination','Dry','Normal','Oily','Sensitive']\n",
    "print(option_2)"
   ]
  },
  {
   "cell_type": "code",
   "execution_count": 23,
   "metadata": {},
   "outputs": [
    {
     "name": "stdout",
     "output_type": "stream",
     "text": [
      "['Moisturizer', 'Cleanser', 'Treatment', 'Mask', 'Eye', 'SPF']\n",
      "['Combination', 'Dry', 'Full', 'Light', 'Matte', 'Medium', 'Natural', 'Normal', 'Oily', 'Radiant', 'Sensitive']\n"
     ]
    }
   ],
   "source": [
    "option_1 = cosm_2.Label.unique().tolist()\n",
    "# look through Label column\n",
    "# unique values in list \n",
    "\n",
    "option_2 = cosm_2.columns[6:].tolist()\n",
    "# all possible combinations for the option choices \n",
    "\n",
    "print(option_1)\n",
    "print(option_2)"
   ]
  },
  {
   "cell_type": "code",
   "execution_count": 26,
   "metadata": {},
   "outputs": [],
   "source": [
    "#cosm_2[cosm_2['Label'] == option_1][cosm_2[option_2]== 1]\n",
    "\n",
    "# lengths do not match "
   ]
  },
  {
   "cell_type": "code",
   "execution_count": 29,
   "metadata": {},
   "outputs": [],
   "source": [
    "# tokenizing the list of ingredients in Ingredients column \n",
    "# after splitting into tokens, make a binary bag of words\n",
    "# create dictionary with tokens, ingredient_idx \n",
    "\n",
    "def my_recommender(op_1, op_2): \n",
    "    df = cosm_2[cosm_2['Label'] == op_1][cosm_2[op_2] == 1]\n",
    "    df = df.reset_index()\n",
    "    \n",
    "    # embedding each ingredient\n",
    "    ingredient_idx = {}\n",
    "    corpus = []\n",
    "    idx = 0 \n",
    "    \n",
    "    for i in range(len(df)):\n",
    "        ingred = df['ingredients'][i]\n",
    "        ingred = ingred.lower()\n",
    "        tokens = ingred.split(', ')\n",
    "        corpus.append(tokens)\n",
    "        for ingredient in tokens:\n",
    "            if ingredient not in ingredient_idx:\n",
    "                ingredient_idx[ingredient] = idx\n",
    "                idx += 1\n",
    "    \n",
    "    # number of items, tokens (M, N)\n",
    "    M = len(df)\n",
    "    N = len(ingredient_idx)\n",
    "    \n",
    "    # initialize matrix of zeros \n",
    "    A = np.zeros(shape = (M,N))\n",
    "    \n",
    "    # define one-hot encoder func\n",
    "    def oh_enc(tokens):\n",
    "        x = np.zeros(N)\n",
    "        for t in tokens: \n",
    "            idx = ingredient_idx[t]\n",
    "            # '1' at corresponding indices\n",
    "            x[idx] = 1 \n",
    "        return x \n",
    "    \n",
    "    # document-term matrix\n",
    "    i = 0 \n",
    "    for tokens in corpus:\n",
    "        A[i, :]= oh_enc(tokens)\n",
    "        i += 1\n",
    "    \n",
    "    # dimension reduction w t-SNE\n",
    "    model = TSNE(n_components =2, learning_rate = 200)\n",
    "    tsne_features = model.fit_transform(A) \n",
    "    \n",
    "    # make X, Y columns\n",
    "    df['X'] = tsne_features[:,0]\n",
    "    df['Y'] = tsne_features[:,1]\n",
    "    \n",
    "    return df"
   ]
  },
  {
   "cell_type": "code",
   "execution_count": null,
   "metadata": {},
   "outputs": [
    {
     "name": "stderr",
     "output_type": "stream",
     "text": [
      "/Users/kimberlyngoh/anaconda3/lib/python3.7/site-packages/ipykernel_launcher.py:6: UserWarning: Boolean Series key will be reindexed to match DataFrame index.\n",
      "  \n",
      "/Users/kimberlyngoh/anaconda3/lib/python3.7/site-packages/ipykernel_launcher.py:6: UserWarning: Boolean Series key will be reindexed to match DataFrame index.\n",
      "  \n",
      "/Users/kimberlyngoh/anaconda3/lib/python3.7/site-packages/ipykernel_launcher.py:6: UserWarning: Boolean Series key will be reindexed to match DataFrame index.\n",
      "  \n",
      "/Users/kimberlyngoh/anaconda3/lib/python3.7/site-packages/ipykernel_launcher.py:6: UserWarning: Boolean Series key will be reindexed to match DataFrame index.\n",
      "  \n",
      "/Users/kimberlyngoh/anaconda3/lib/python3.7/site-packages/ipykernel_launcher.py:6: UserWarning: Boolean Series key will be reindexed to match DataFrame index.\n",
      "  \n",
      "/Users/kimberlyngoh/anaconda3/lib/python3.7/site-packages/ipykernel_launcher.py:6: UserWarning: Boolean Series key will be reindexed to match DataFrame index.\n",
      "  \n",
      "/Users/kimberlyngoh/anaconda3/lib/python3.7/site-packages/ipykernel_launcher.py:6: UserWarning: Boolean Series key will be reindexed to match DataFrame index.\n",
      "  \n",
      "/Users/kimberlyngoh/anaconda3/lib/python3.7/site-packages/ipykernel_launcher.py:6: UserWarning: Boolean Series key will be reindexed to match DataFrame index.\n",
      "  \n",
      "/Users/kimberlyngoh/anaconda3/lib/python3.7/site-packages/ipykernel_launcher.py:6: UserWarning: Boolean Series key will be reindexed to match DataFrame index.\n",
      "  \n",
      "/Users/kimberlyngoh/anaconda3/lib/python3.7/site-packages/ipykernel_launcher.py:6: UserWarning: Boolean Series key will be reindexed to match DataFrame index.\n",
      "  \n",
      "/Users/kimberlyngoh/anaconda3/lib/python3.7/site-packages/ipykernel_launcher.py:6: UserWarning: Boolean Series key will be reindexed to match DataFrame index.\n",
      "  \n",
      "/Users/kimberlyngoh/anaconda3/lib/python3.7/site-packages/ipykernel_launcher.py:6: UserWarning: Boolean Series key will be reindexed to match DataFrame index.\n",
      "  \n",
      "/Users/kimberlyngoh/anaconda3/lib/python3.7/site-packages/ipykernel_launcher.py:6: UserWarning: Boolean Series key will be reindexed to match DataFrame index.\n",
      "  \n",
      "/Users/kimberlyngoh/anaconda3/lib/python3.7/site-packages/ipykernel_launcher.py:6: UserWarning: Boolean Series key will be reindexed to match DataFrame index.\n",
      "  \n",
      "/Users/kimberlyngoh/anaconda3/lib/python3.7/site-packages/ipykernel_launcher.py:6: UserWarning: Boolean Series key will be reindexed to match DataFrame index.\n",
      "  \n",
      "/Users/kimberlyngoh/anaconda3/lib/python3.7/site-packages/ipykernel_launcher.py:6: UserWarning: Boolean Series key will be reindexed to match DataFrame index.\n",
      "  \n",
      "/Users/kimberlyngoh/anaconda3/lib/python3.7/site-packages/ipykernel_launcher.py:6: UserWarning: Boolean Series key will be reindexed to match DataFrame index.\n",
      "  \n",
      "/Users/kimberlyngoh/anaconda3/lib/python3.7/site-packages/ipykernel_launcher.py:6: UserWarning: Boolean Series key will be reindexed to match DataFrame index.\n",
      "  \n",
      "/Users/kimberlyngoh/anaconda3/lib/python3.7/site-packages/ipykernel_launcher.py:6: UserWarning: Boolean Series key will be reindexed to match DataFrame index.\n",
      "  \n",
      "/Users/kimberlyngoh/anaconda3/lib/python3.7/site-packages/ipykernel_launcher.py:6: UserWarning: Boolean Series key will be reindexed to match DataFrame index.\n",
      "  \n",
      "/Users/kimberlyngoh/anaconda3/lib/python3.7/site-packages/ipykernel_launcher.py:6: UserWarning: Boolean Series key will be reindexed to match DataFrame index.\n",
      "  \n",
      "/Users/kimberlyngoh/anaconda3/lib/python3.7/site-packages/ipykernel_launcher.py:6: UserWarning: Boolean Series key will be reindexed to match DataFrame index.\n",
      "  \n",
      "/Users/kimberlyngoh/anaconda3/lib/python3.7/site-packages/ipykernel_launcher.py:6: UserWarning: Boolean Series key will be reindexed to match DataFrame index.\n",
      "  \n"
     ]
    }
   ],
   "source": [
    "# Create df for all combos \n",
    "df_all = pd.DataFrame() \n",
    "for op_1 in option_1:\n",
    "    for op_2 in option_2:\n",
    "        temp = my_recommender(op_1,op_2)\n",
    "        temp['Label'] = op_1 + '_' + op_2\n",
    "        df_all = pd.concat([df_all, temp])"
   ]
  },
  {
   "cell_type": "code",
   "execution_count": null,
   "metadata": {},
   "outputs": [],
   "source": [
    "df_all.to_csv()"
   ]
  }
 ],
 "metadata": {
  "kernelspec": {
   "display_name": "Python 3",
   "language": "python",
   "name": "python3"
  },
  "language_info": {
   "codemirror_mode": {
    "name": "ipython",
    "version": 3
   },
   "file_extension": ".py",
   "mimetype": "text/x-python",
   "name": "python",
   "nbconvert_exporter": "python",
   "pygments_lexer": "ipython3",
   "version": "3.7.6"
  }
 },
 "nbformat": 4,
 "nbformat_minor": 4
}
