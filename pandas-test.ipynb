{
 "cells": [
  {
   "cell_type": "code",
   "execution_count": 22,
   "metadata": {},
   "outputs": [],
   "source": [
    "import numpy as np \n",
    "import pandas as pd"
   ]
  },
  {
   "cell_type": "code",
   "execution_count": 2,
   "metadata": {},
   "outputs": [],
   "source": [
    "df = pd.read_csv('cosmetic_p.csv')"
   ]
  },
  {
   "cell_type": "code",
   "execution_count": 8,
   "metadata": {},
   "outputs": [
    {
     "name": "stdout",
     "output_type": "stream",
     "text": [
      "<class 'pandas.core.frame.DataFrame'>\n",
      "RangeIndex: 1472 entries, 0 to 1471\n",
      "Data columns (total 17 columns):\n",
      " #   Column       Non-Null Count  Dtype  \n",
      "---  ------       --------------  -----  \n",
      " 0   Label        1472 non-null   object \n",
      " 1   brand        1472 non-null   object \n",
      " 2   name         1472 non-null   object \n",
      " 3   price        1472 non-null   int64  \n",
      " 4   rank         1472 non-null   float64\n",
      " 5   ingredients  1472 non-null   object \n",
      " 6   Combination  1472 non-null   int64  \n",
      " 7   Dry          1472 non-null   int64  \n",
      " 8   Full         1472 non-null   int64  \n",
      " 9   Light        1472 non-null   int64  \n",
      " 10  Matte        1472 non-null   int64  \n",
      " 11  Medium       1472 non-null   int64  \n",
      " 12  Natural      1472 non-null   int64  \n",
      " 13  Normal       1472 non-null   int64  \n",
      " 14  Oily         1472 non-null   int64  \n",
      " 15  Radiant      1472 non-null   int64  \n",
      " 16  Sensitive    1472 non-null   int64  \n",
      "dtypes: float64(1), int64(12), object(4)\n",
      "memory usage: 195.6+ KB\n"
     ]
    }
   ],
   "source": [
    "#print(df.shape)\n",
    "#print(df.size)\n",
    "df.info()"
   ]
  },
  {
   "cell_type": "code",
   "execution_count": 15,
   "metadata": {},
   "outputs": [],
   "source": [
    "df.rename(columns= lambda x: 'LBL' if x == 'Label' else x, inplace=True)\n",
    "df.rename(columns= lambda x: 'BRD' if x == 'brand' else x, inplace=True)\n",
    "df.rename(columns= lambda x: 'NM' if x == 'name' else x, inplace=True)\n",
    "\n",
    "# inplace = True will update df, won't return copy"
   ]
  },
  {
   "cell_type": "code",
   "execution_count": 12,
   "metadata": {},
   "outputs": [],
   "source": [
    "# print(df.iloc[:])"
   ]
  },
  {
   "cell_type": "code",
   "execution_count": 14,
   "metadata": {},
   "outputs": [
    {
     "name": "stdout",
     "output_type": "stream",
     "text": [
      "           LBL             BRD                          NM\n",
      "1  Moisturizer           SK-II    Facial Treatment Essence\n",
      "2  Moisturizer  DRUNK ELEPHANT  Protini™ Polypeptide Cream\n"
     ]
    }
   ],
   "source": [
    "print(df.loc[1:2, 'LBL':'NM'])"
   ]
  },
  {
   "cell_type": "code",
   "execution_count": 17,
   "metadata": {},
   "outputs": [],
   "source": [
    "df['idx']= [str(x+1) for x in range(0, df.shape[0])]\n",
    "df.set_index('idx', inplace=True)\n",
    "#print(df.head(5))"
   ]
  },
  {
   "cell_type": "code",
   "execution_count": null,
   "metadata": {},
   "outputs": [],
   "source": []
  },
  {
   "cell_type": "code",
   "execution_count": null,
   "metadata": {},
   "outputs": [],
   "source": []
  }
 ],
 "metadata": {
  "kernelspec": {
   "display_name": "Python 3",
   "language": "python",
   "name": "python3"
  },
  "language_info": {
   "codemirror_mode": {
    "name": "ipython",
    "version": 3
   },
   "file_extension": ".py",
   "mimetype": "text/x-python",
   "name": "python",
   "nbconvert_exporter": "python",
   "pygments_lexer": "ipython3",
   "version": "3.7.6"
  }
 },
 "nbformat": 4,
 "nbformat_minor": 4
}
